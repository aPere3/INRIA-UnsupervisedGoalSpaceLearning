{
 "cells": [
  {
   "cell_type": "markdown",
   "metadata": {},
   "source": [
    "# Transformation Autoencoders\n",
    "\n",
    "In this notebook we experiment with autoencoders on a (very simple) transformation learning setup."
   ]
  },
  {
   "cell_type": "markdown",
   "metadata": {},
   "source": [
    "## Data\n",
    "\n",
    "For this first experiment, we will generate images of a rotating arrow, for which we will try to find some interesting representation."
   ]
  },
  {
   "cell_type": "code",
   "execution_count": 1,
   "metadata": {
    "collapsed": true
   },
   "outputs": [],
   "source": [
    "import matplotlib.pyplot as plt\n",
    "%matplotlib inline\n",
    "import numpy as np\n",
    "import tensorflow as tf\n",
    "import tfgraphviz as tfg\n",
    "from tqdm import tqdm_notebook\n",
    "import sys\n",
    "sys.path.append(\"../src\")\n",
    "import simulation "
   ]
  },
  {
   "cell_type": "code",
   "execution_count": 3,
   "metadata": {
    "collapsed": true
   },
   "outputs": [],
   "source": [
    "# We gather simulation\n",
    "sim = simulation.RotatingArrowSimulation()"
   ]
  },
  {
   "cell_type": "code",
   "execution_count": 29,
   "metadata": {},
   "outputs": [
    {
     "data": {
      "application/vnd.jupyter.widget-view+json": {
       "model_id": "1433cebf055a4302b299d76ac1d63731"
      }
     },
     "metadata": {},
     "output_type": "display_data"
    },
    {
     "name": "stdout",
     "output_type": "stream",
     "text": [
      "\n"
     ]
    },
    {
     "data": {
      "image/png": "[encoded data removed]",
      "text/plain": [
       "<matplotlib.figure.Figure at 0x7f0d810e2e90>"
      ]
     },
     "metadata": {},
     "output_type": "display_data"
    }
   ],
   "source": [
    "# We set sizes\n",
    "im_size = 70\n",
    "nb_samples = 300\n",
    "# We instantiate the numpy array\n",
    "X = sim.sample_trajectory([0.], [0.5], nb_samples).reshape([-1,im_size**2])\n",
    "# We check that our function works expectedly\n",
    "plt.imshow(X[150].reshape(im_size,im_size))\n",
    "plt.show()"
   ]
  },
  {
   "cell_type": "markdown",
   "metadata": {},
   "source": [
    "### Experiment \n",
    "\n",
    "We tried different experiments, that approximately yielded the same results. We only publish this experiment that shows the type of results to expect with classic AE. \n",
    "\n",
    "Few remarks regarding the results of the experiments:\n",
    "+ The algo yields the network to learn a 1-D representation\n",
    "+ The out-of-training samples are in the convex hull of the training samples"
   ]
  },
  {
   "cell_type": "code",
   "execution_count": 14,
   "metadata": {
    "collapsed": true
   },
   "outputs": [],
   "source": [
    "# We instantiate the session\n",
    "tf.reset_default_graph()\n",
    "net_session = tf.InteractiveSession()"
   ]
  },
  {
   "cell_type": "code",
   "execution_count": 15,
   "metadata": {},
   "outputs": [],
   "source": [
    "# We generate the architecture\n",
    "with tf.variable_scope(\"Input\"):\n",
    "    net_input = tf.placeholder(tf.float32, shape=[None, im_size**2])\n",
    "# Encoder1\n",
    "with tf.variable_scope(\"Encoder_1\"):\n",
    "    net_w1 = tf.Variable(tf.truncated_normal([im_size**2, 512], stddev=0.1))\n",
    "    net_b1 = tf.Variable(tf.constant(0.1, shape=[512]))\n",
    "    net_a1 = tf.matmul(net_input, net_w1) + net_b1\n",
    "    net_a1 = tf.nn.sigmoid(net_a1)\n",
    "# Encoder2\n",
    "with tf.variable_scope(\"Encoder_2\"):\n",
    "    net_w2 = tf.Variable(tf.truncated_normal([512,256], stddev=0.1))\n",
    "    net_b2 = tf.Variable(tf.constant(0.1, shape=[256]))\n",
    "    net_a2 = tf.matmul(net_a1, net_w2) + net_b2\n",
    "    net_a2 = tf.nn.sigmoid(net_a2)\n",
    "# Encoder3\n",
    "with tf.variable_scope(\"Encoder_3\"):\n",
    "    net_w3 = tf.Variable(tf.truncated_normal([256,2], stddev=0.1))\n",
    "    net_b3 = tf.Variable(tf.constant(0.1, shape=[2]))\n",
    "    net_a3 = tf.matmul(net_a2, net_w3) + net_b3\n",
    "    net_a3 = tf.nn.sigmoid(net_a3)\n",
    "# Decoder1\n",
    "with tf.variable_scope(\"Decoder_1\"):\n",
    "    net_w4 = tf.Variable(tf.truncated_normal([2,256], stddev=0.1))\n",
    "    net_b4 = tf.Variable(tf.constant(0.1, shape=[256]))\n",
    "    net_a4 = tf.matmul(net_a3, net_w4) + net_b4\n",
    "    net_a4 = tf.nn.sigmoid(net_a4)\n",
    "# Decoder2\n",
    "with tf.variable_scope(\"Decoder_2\"):\n",
    "    net_w5 = tf.Variable(tf.truncated_normal([256,512], stddev=0.1))\n",
    "    net_b5 = tf.Variable(tf.constant(0.1, shape=[512]))\n",
    "    net_a5 = tf.matmul(net_a4, net_w5) + net_b5\n",
    "    net_a5 = tf.nn.sigmoid(net_a5)\n",
    "# Decoder3\n",
    "with tf.variable_scope(\"Decoder_3\"):\n",
    "    net_w6 = tf.Variable(tf.truncated_normal([512, im_size**2], stddev=0.1))\n",
    "    net_b6 = tf.Variable(tf.constant(0.1, shape=[im_size**2]))\n",
    "    net_a6 = tf.matmul(net_a5, net_w6) + net_b6\n",
    "    net_a6 = tf.nn.sigmoid(net_a6)\n",
    "# We compute cost function\n",
    "with tf.variable_scope(\"Loss\"):\n",
    "    net_loss = tf.nn.l2_loss(net_input-net_a6)\n",
    "    net_cost_function = net_loss\n",
    "    net_optimizer = tf.train.AdamOptimizer(1e-3)\n",
    "    net_descend = net_optimizer.minimize(net_cost_function)"
   ]
  },
  {
   "cell_type": "code",
   "execution_count": 16,
   "metadata": {},
   "outputs": [
    {
     "data": {
      "image/svg+xml": [
       "<?xml version=\"1.0\" encoding=\"UTF-8\" standalone=\"no\"?>\n",
       "<!DOCTYPE svg PUBLIC \"-//W3C//DTD SVG 1.1//EN\"\n",
       " \"http://www.w3.org/Graphics/SVG/1.1/DTD/svg11.dtd\">\n",
       "<!-- Generated by graphviz version 2.38.0 (20140413.2041)\n",
       " -->\n",
       "<!-- Title: G Pages: 1 -->\n",
       "<svg width=\"346pt\" height=\"548pt\"\n",
       " viewBox=\"0.00 0.00 346.44 548.00\" xmlns=\"http://www.w3.org/2000/svg\" xmlns:xlink=\"http://www.w3.org/1999/xlink\">\n",
       "<g id=\"graph0\" class=\"graph\" transform=\"scale(1 1) rotate(0) translate(4 544)\">\n",
       "<title>G</title>\n",
       "<polygon fill=\"white\" stroke=\"none\" points=\"-4,4 -4,-544 342.445,-544 342.445,4 -4,4\"/>\n",
       "<!-- Loss -->\n",
       "<g id=\"node1\" class=\"node\"><title>Loss</title>\n",
       "<ellipse fill=\"white\" stroke=\"#aaaaaa\" stroke-width=\"2\" cx=\"114\" cy=\"-18\" rx=\"32.4942\" ry=\"18\"/>\n",
       "<text text-anchor=\"middle\" x=\"114\" y=\"-14.3\" font-family=\"Times,serif\" font-size=\"14.00\" fill=\"#414141\">Loss</text>\n",
       "</g>\n",
       "<!-- Encoder_1 -->\n",
       "<g id=\"node2\" class=\"node\"><title>Encoder_1</title>\n",
       "<ellipse fill=\"white\" stroke=\"#aaaaaa\" stroke-width=\"2\" cx=\"88\" cy=\"-450\" rx=\"60.3893\" ry=\"18\"/>\n",
       "<text text-anchor=\"middle\" x=\"88\" y=\"-446.3\" font-family=\"Times,serif\" font-size=\"14.00\" fill=\"#414141\">Encoder_1</text>\n",
       "</g>\n",
       "<!-- Encoder_1&#45;&gt;Loss -->\n",
       "<g id=\"edge1\" class=\"edge\"><title>Encoder_1&#45;&gt;Loss</title>\n",
       "<path fill=\"none\" stroke=\"#aaaaaa\" stroke-width=\"2.5\" d=\"M76.1985,-432.042C69.6813,-421.972 61.9313,-408.722 57,-396 42.3818,-358.287 38,-347.447 38,-307 38,-307 38,-307 38,-161 38,-115.379 68.8703,-70.2303 91.2618,-43.4828\"/>\n",
       "<polygon fill=\"#aaaaaa\" stroke=\"#aaaaaa\" stroke-width=\"2.5\" points=\"94.6514,-45.985 99.3464,-34.1698 88.3082,-40.4784 94.6514,-45.985\"/>\n",
       "</g>\n",
       "<!-- Encoder_2 -->\n",
       "<g id=\"node3\" class=\"node\"><title>Encoder_2</title>\n",
       "<ellipse fill=\"white\" stroke=\"#aaaaaa\" stroke-width=\"2\" cx=\"126\" cy=\"-378\" rx=\"60.3893\" ry=\"18\"/>\n",
       "<text text-anchor=\"middle\" x=\"126\" y=\"-374.3\" font-family=\"Times,serif\" font-size=\"14.00\" fill=\"#414141\">Encoder_2</text>\n",
       "</g>\n",
       "<!-- Encoder_1&#45;&gt;Encoder_2 -->\n",
       "<g id=\"edge9\" class=\"edge\"><title>Encoder_1&#45;&gt;Encoder_2</title>\n",
       "<path fill=\"none\" stroke=\"#aaaaaa\" stroke-width=\"2.5\" d=\"M97.1987,-432.055C101.292,-424.515 106.221,-415.436 110.835,-406.936\"/>\n",
       "<polygon fill=\"#aaaaaa\" stroke=\"#aaaaaa\" stroke-width=\"2.5\" points=\"114.588,-408.825 116.622,-396.275 107.206,-404.818 114.588,-408.825\"/>\n",
       "</g>\n",
       "<!-- Encoder_2&#45;&gt;Loss -->\n",
       "<g id=\"edge2\" class=\"edge\"><title>Encoder_2&#45;&gt;Loss</title>\n",
       "<path fill=\"none\" stroke=\"#aaaaaa\" stroke-width=\"2.5\" d=\"M114.199,-360.042C107.681,-349.972 99.9313,-336.722 95,-324 80.3818,-286.287 76,-275.447 76,-235 76,-235 76,-235 76,-161 76,-120.318 90.7345,-75.2406 101.853,-47.0161\"/>\n",
       "<polygon fill=\"#aaaaaa\" stroke=\"#aaaaaa\" stroke-width=\"2.5\" points=\"105.842,-48.3592 106.492,-35.662 98.0656,-45.182 105.842,-48.3592\"/>\n",
       "</g>\n",
       "<!-- Encoder_3 -->\n",
       "<g id=\"node4\" class=\"node\"><title>Encoder_3</title>\n",
       "<ellipse fill=\"white\" stroke=\"#aaaaaa\" stroke-width=\"2\" cx=\"164\" cy=\"-306\" rx=\"60.3893\" ry=\"18\"/>\n",
       "<text text-anchor=\"middle\" x=\"164\" y=\"-302.3\" font-family=\"Times,serif\" font-size=\"14.00\" fill=\"#414141\">Encoder_3</text>\n",
       "</g>\n",
       "<!-- Encoder_2&#45;&gt;Encoder_3 -->\n",
       "<g id=\"edge10\" class=\"edge\"><title>Encoder_2&#45;&gt;Encoder_3</title>\n",
       "<path fill=\"none\" stroke=\"#aaaaaa\" stroke-width=\"2.5\" d=\"M135.199,-360.055C139.292,-352.515 144.221,-343.436 148.835,-334.936\"/>\n",
       "<polygon fill=\"#aaaaaa\" stroke=\"#aaaaaa\" stroke-width=\"2.5\" points=\"152.588,-336.825 154.622,-324.275 145.206,-332.818 152.588,-336.825\"/>\n",
       "</g>\n",
       "<!-- Encoder_3&#45;&gt;Loss -->\n",
       "<g id=\"edge3\" class=\"edge\"><title>Encoder_3&#45;&gt;Loss</title>\n",
       "<path fill=\"none\" stroke=\"#aaaaaa\" stroke-width=\"2.5\" d=\"M151.576,-288.26C144.851,-278.264 137.101,-265.014 133,-252 110.785,-181.513 110.56,-93.4138 112.282,-48.421\"/>\n",
       "<polygon fill=\"#aaaaaa\" stroke=\"#aaaaaa\" stroke-width=\"2.5\" points=\"116.49,-48.3414 112.843,-36.1619 108.099,-47.9573 116.49,-48.3414\"/>\n",
       "</g>\n",
       "<!-- Decoder_1 -->\n",
       "<g id=\"node5\" class=\"node\"><title>Decoder_1</title>\n",
       "<ellipse fill=\"white\" stroke=\"#aaaaaa\" stroke-width=\"2\" cx=\"202\" cy=\"-234\" rx=\"60.3893\" ry=\"18\"/>\n",
       "<text text-anchor=\"middle\" x=\"202\" y=\"-230.3\" font-family=\"Times,serif\" font-size=\"14.00\" fill=\"#414141\">Decoder_1</text>\n",
       "</g>\n",
       "<!-- Encoder_3&#45;&gt;Decoder_1 -->\n",
       "<g id=\"edge11\" class=\"edge\"><title>Encoder_3&#45;&gt;Decoder_1</title>\n",
       "<path fill=\"none\" stroke=\"#aaaaaa\" stroke-width=\"2.5\" d=\"M173.199,-288.055C177.292,-280.515 182.221,-271.436 186.835,-262.936\"/>\n",
       "<polygon fill=\"#aaaaaa\" stroke=\"#aaaaaa\" stroke-width=\"2.5\" points=\"190.588,-264.825 192.622,-252.275 183.206,-260.818 190.588,-264.825\"/>\n",
       "</g>\n",
       "<!-- Decoder_1&#45;&gt;Loss -->\n",
       "<g id=\"edge4\" class=\"edge\"><title>Decoder_1&#45;&gt;Loss</title>\n",
       "<path fill=\"none\" stroke=\"#aaaaaa\" stroke-width=\"2.5\" d=\"M191.105,-216.255C184.74,-206.039 176.837,-192.569 171,-180 150.162,-135.129 132.274,-80.3561 122.342,-47.6501\"/>\n",
       "<polygon fill=\"#aaaaaa\" stroke=\"#aaaaaa\" stroke-width=\"2.5\" points=\"126.28,-46.1609 118.819,-35.8668 118.232,-48.5671 126.28,-46.1609\"/>\n",
       "</g>\n",
       "<!-- Decoder_2 -->\n",
       "<g id=\"node6\" class=\"node\"><title>Decoder_2</title>\n",
       "<ellipse fill=\"white\" stroke=\"#aaaaaa\" stroke-width=\"2\" cx=\"240\" cy=\"-162\" rx=\"60.3893\" ry=\"18\"/>\n",
       "<text text-anchor=\"middle\" x=\"240\" y=\"-158.3\" font-family=\"Times,serif\" font-size=\"14.00\" fill=\"#414141\">Decoder_2</text>\n",
       "</g>\n",
       "<!-- Decoder_1&#45;&gt;Decoder_2 -->\n",
       "<g id=\"edge12\" class=\"edge\"><title>Decoder_1&#45;&gt;Decoder_2</title>\n",
       "<path fill=\"none\" stroke=\"#aaaaaa\" stroke-width=\"2.5\" d=\"M211.199,-216.055C215.292,-208.515 220.221,-199.436 224.835,-190.936\"/>\n",
       "<polygon fill=\"#aaaaaa\" stroke=\"#aaaaaa\" stroke-width=\"2.5\" points=\"228.588,-192.825 230.622,-180.275 221.206,-188.818 228.588,-192.825\"/>\n",
       "</g>\n",
       "<!-- Decoder_2&#45;&gt;Loss -->\n",
       "<g id=\"edge5\" class=\"edge\"><title>Decoder_2&#45;&gt;Loss</title>\n",
       "<path fill=\"none\" stroke=\"#aaaaaa\" stroke-width=\"2.5\" d=\"M226.758,-144.253C212.249,-126.101 188.093,-96.4527 166,-72 157.056,-62.1005 146.844,-51.5425 137.852,-42.4766\"/>\n",
       "<polygon fill=\"#aaaaaa\" stroke=\"#aaaaaa\" stroke-width=\"2.5\" points=\"140.815,-39.4999 129.358,-33.9877 134.877,-45.4413 140.815,-39.4999\"/>\n",
       "</g>\n",
       "<!-- Decoder_3 -->\n",
       "<g id=\"node7\" class=\"node\"><title>Decoder_3</title>\n",
       "<ellipse fill=\"white\" stroke=\"#aaaaaa\" stroke-width=\"2\" cx=\"278\" cy=\"-90\" rx=\"60.3893\" ry=\"18\"/>\n",
       "<text text-anchor=\"middle\" x=\"278\" y=\"-86.3\" font-family=\"Times,serif\" font-size=\"14.00\" fill=\"#414141\">Decoder_3</text>\n",
       "</g>\n",
       "<!-- Decoder_2&#45;&gt;Decoder_3 -->\n",
       "<g id=\"edge13\" class=\"edge\"><title>Decoder_2&#45;&gt;Decoder_3</title>\n",
       "<path fill=\"none\" stroke=\"#aaaaaa\" stroke-width=\"2.5\" d=\"M249.199,-144.055C253.292,-136.515 258.221,-127.436 262.835,-118.936\"/>\n",
       "<polygon fill=\"#aaaaaa\" stroke=\"#aaaaaa\" stroke-width=\"2.5\" points=\"266.588,-120.825 268.622,-108.275 259.206,-116.818 266.588,-120.825\"/>\n",
       "</g>\n",
       "<!-- Decoder_3&#45;&gt;Loss -->\n",
       "<g id=\"edge6\" class=\"edge\"><title>Decoder_3&#45;&gt;Loss</title>\n",
       "<path fill=\"none\" stroke=\"#aaaaaa\" stroke-width=\"2.5\" d=\"M244.812,-74.8345C217.377,-63.1242 178.479,-46.5217 150.237,-34.4669\"/>\n",
       "<polygon fill=\"#aaaaaa\" stroke=\"#aaaaaa\" stroke-width=\"2.5\" points=\"151.535,-30.4545 138.85,-29.6065 148.237,-38.1802 151.535,-30.4545\"/>\n",
       "</g>\n",
       "<!-- Input -->\n",
       "<g id=\"node8\" class=\"node\"><title>Input</title>\n",
       "<ellipse fill=\"white\" stroke=\"#aaaaaa\" stroke-width=\"2\" cx=\"44\" cy=\"-522\" rx=\"36.2938\" ry=\"18\"/>\n",
       "<text text-anchor=\"middle\" x=\"44\" y=\"-518.3\" font-family=\"Times,serif\" font-size=\"14.00\" fill=\"#414141\">Input</text>\n",
       "</g>\n",
       "<!-- Input&#45;&gt;Loss -->\n",
       "<g id=\"edge7\" class=\"edge\"><title>Input&#45;&gt;Loss</title>\n",
       "<path fill=\"none\" stroke=\"#aaaaaa\" stroke-width=\"2.5\" d=\"M34.867,-504.228C29.6106,-494.003 23.2299,-480.531 19,-468 6.06432,-429.677 2.47666e-15,-419.447 0,-379 0,-379 0,-379 0,-161 0,-107.71 49.425,-63.0328 83.1875,-38.7303\"/>\n",
       "<polygon fill=\"#aaaaaa\" stroke=\"#aaaaaa\" stroke-width=\"2.5\" points=\"85.6284,-42.1487 93.0906,-31.8553 80.838,-35.2485 85.6284,-42.1487\"/>\n",
       "</g>\n",
       "<!-- Input&#45;&gt;Encoder_1 -->\n",
       "<g id=\"edge8\" class=\"edge\"><title>Input&#45;&gt;Encoder_1</title>\n",
       "<path fill=\"none\" stroke=\"#aaaaaa\" stroke-width=\"2.5\" d=\"M54.4274,-504.411C59.3416,-496.593 65.3328,-487.061 70.8864,-478.226\"/>\n",
       "<polygon fill=\"#aaaaaa\" stroke=\"#aaaaaa\" stroke-width=\"2.5\" points=\"74.5116,-480.351 77.3418,-467.956 67.3998,-475.881 74.5116,-480.351\"/>\n",
       "</g>\n",
       "</g>\n",
       "</svg>\n"
      ],
      "text/plain": [
       "<graphviz.dot.Digraph at 0x7f0d7ff21950>"
      ]
     },
     "execution_count": 16,
     "metadata": {},
     "output_type": "execute_result"
    }
   ],
   "source": [
    "# We check the network\n",
    "tfg.board(net_session.graph, depth=1)"
   ]
  },
  {
   "cell_type": "code",
   "execution_count": 17,
   "metadata": {
    "collapsed": true
   },
   "outputs": [],
   "source": [
    "# We initialize the variables\n",
    "net_session.run(tf.global_variables_initializer())"
   ]
  },
  {
   "cell_type": "code",
   "execution_count": 18,
   "metadata": {
    "scrolled": false
   },
   "outputs": [
    {
     "data": {
      "application/vnd.jupyter.widget-view+json": {
       "model_id": "41a0518e5d434bd1ab31d745f388c4fc"
      }
     },
     "metadata": {},
     "output_type": "display_data"
    },
    {
     "name": "stdout",
     "output_type": "stream",
     "text": [
      "\n"
     ]
    }
   ],
   "source": [
    "# We train the network\n",
    "batch_size = 1\n",
    "nb_epochs = 20000\n",
    "historical = np.zeros([nb_epochs])\n",
    "# We loop through epochs\n",
    "for i in tqdm_notebook(range(nb_epochs),desc=\"Epochs\"):\n",
    "    idx = np.random.permutation(range(X.shape[0]))[0:batch_size]\n",
    "    net_descend.run(feed_dict={net_input:X[idx]})\n",
    "    historical[i] = net_loss.eval(feed_dict={net_input:X[idx]})"
   ]
  },
  {
   "cell_type": "code",
   "execution_count": 19,
   "metadata": {},
   "outputs": [
    {
     "data": {
      "image/png": "[encoded data removed]",
      "text/plain": [
       "<matplotlib.figure.Figure at 0x7f0d7fdd8510>"
      ]
     },
     "metadata": {},
     "output_type": "display_data"
    }
   ],
   "source": [
    "# We plot the learning curve\n",
    "plt.plot(historical)\n",
    "plt.show()"
   ]
  },
  {
   "cell_type": "code",
   "execution_count": 21,
   "metadata": {
    "scrolled": false
   },
   "outputs": [
    {
     "data": {
      "image/png": "[encoded data removed]",
      "text/plain": [
       "<matplotlib.figure.Figure at 0x7f0d7f506b50>"
      ]
     },
     "metadata": {},
     "output_type": "display_data"
    }
   ],
   "source": [
    "# We show reconstruction for some training samples\n",
    "nb_draw = 5\n",
    "idx = np.random.permutation(range(X.shape[0]))[0:nb_draw]\n",
    "inpt = X[idx]\n",
    "outpt = net_a6.eval(feed_dict={net_input:inpt}) \n",
    "fig, ax = plt.subplots(ncols=nb_draw, nrows=2,figsize=(15,5))\n",
    "for i in range(nb_draw):\n",
    "    ax[0,i].imshow(inpt[i].reshape([im_size,im_size]))\n",
    "    ax[1,i].imshow(outpt[i].reshape([im_size,im_size]))"
   ]
  },
  {
   "cell_type": "code",
   "execution_count": 22,
   "metadata": {},
   "outputs": [
    {
     "data": {
      "image/png": "[encoded data removed]",
      "text/plain": [
       "<matplotlib.figure.Figure at 0x7f0d7fef3dd0>"
      ]
     },
     "metadata": {},
     "output_type": "display_data"
    }
   ],
   "source": [
    "# We plot embedding variables evolution\n",
    "nb_draw = 10\n",
    "inpt = X\n",
    "emb = net_a3.eval(feed_dict={net_input:inpt}) \n",
    "plt.scatter(emb[:,0], emb[:,1], c=range(X.shape[0]));"
   ]
  },
  {
   "cell_type": "code",
   "execution_count": 30,
   "metadata": {},
   "outputs": [
    {
     "data": {
      "application/vnd.jupyter.widget-view+json": {
       "model_id": "48e377d01eeb4c4db7f98b9e2c497131"
      }
     },
     "metadata": {},
     "output_type": "display_data"
    },
    {
     "name": "stdout",
     "output_type": "stream",
     "text": [
      "\n"
     ]
    }
   ],
   "source": [
    "# We instantiate the numpy array\n",
    "X_out = sim.sample_trajectory([0.5], [1.], nb_samples).reshape([-1,im_size**2])"
   ]
  },
  {
   "cell_type": "code",
   "execution_count": 32,
   "metadata": {
    "scrolled": false
   },
   "outputs": [
    {
     "data": {
      "image/png": "[encoded data removed]",
      "text/plain": [
       "<matplotlib.figure.Figure at 0x7f0d7c490350>"
      ]
     },
     "metadata": {},
     "output_type": "display_data"
    }
   ],
   "source": [
    "# We show reconstruction of out of training samples\n",
    "nb_draw = 5\n",
    "idx = np.random.permutation(range(X.shape[0]))[0:nb_draw]\n",
    "inpt = X_out[idx]\n",
    "outpt = net_a6.eval(feed_dict={net_input:inpt}) \n",
    "fig, ax = plt.subplots(ncols=nb_draw, nrows=2,figsize=(15,5))\n",
    "for i in range(nb_draw):\n",
    "    ax[0,i].imshow(inpt[i].reshape([im_size, im_size]))\n",
    "    ax[1,i].imshow(outpt[i].reshape([im_size, im_size]))"
   ]
  },
  {
   "cell_type": "code",
   "execution_count": 33,
   "metadata": {
    "scrolled": true
   },
   "outputs": [
    {
     "data": {
      "text/plain": [
       "<matplotlib.legend.Legend at 0x7f0d7c487d10>"
      ]
     },
     "execution_count": 33,
     "metadata": {},
     "output_type": "execute_result"
    },
    {
     "data": {
      "image/png": "[encoded data removed]",
      "text/plain": [
       "<matplotlib.figure.Figure at 0x7f0d7fde6710>"
      ]
     },
     "metadata": {},
     "output_type": "display_data"
    }
   ],
   "source": [
    "# We show training samples embeddings and out of samples embeddings\n",
    "nb_draw = 10\n",
    "inpt = X_out\n",
    "emb2 = net_a3.eval(feed_dict={net_input:inpt}) \n",
    "plt.scatter(emb[:,0], emb[:,1], label=\"Training\")\n",
    "plt.scatter(emb2[:,0], emb2[:,1], label='Out of Training')\n",
    "plt.legend()"
   ]
  }
 ],
 "metadata": {
  "kernelspec": {
   "display_name": "Python 2",
   "language": "python",
   "name": "python2"
  },
  "language_info": {
   "codemirror_mode": {
    "name": "ipython",
    "version": 2
   },
   "file_extension": ".py",
   "mimetype": "text/x-python",
   "name": "python",
   "nbconvert_exporter": "python",
   "pygments_lexer": "ipython2",
   "version": "2.7.12"
  },
  "widgets": {
   "state": {
    "987ae66de1984818bc2f729ebeee419b": {
     "views": [
      {
       "cell_index": 10
      }
     ]
    },
    "cbd622b65d4f4114a45afc5016ade51a": {
     "views": [
      {
       "cell_index": 4
      }
     ]
    }
   },
   "version": "1.2.0"
  }
 },
 "nbformat": 4,
 "nbformat_minor": 2
}
