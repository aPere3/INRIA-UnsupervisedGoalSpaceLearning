{
 "cells": [
  {
   "cell_type": "markdown",
   "metadata": {},
   "source": [
    "# Armball Goal Babbling with Engineered States\n",
    "\n",
    "In this notebook, we assess performances of goal babbling for exploration using engineered representations. "
   ]
  },
  {
   "cell_type": "code",
   "execution_count": 1,
   "metadata": {
    "collapsed": true
   },
   "outputs": [],
   "source": [
    "import numpy as np\n",
    "import matplotlib\n",
    "import matplotlib.pyplot as plt\n",
    "%matplotlib inline\n",
    "from matplotlib.patches import Circle\n",
    "from explauto.environment.dynamic_environment import DynamicEnvironment\n",
    "from explauto.environment.modular_environment import FlatEnvironment, HierarchicalEnvironment\n",
    "from explauto.utils import bounds_min_max\n",
    "from explauto.environment.environment import Environment\n",
    "from explauto.environment.simple_arm.simple_arm import joint_positions\n",
    "from explauto.utils.utils import rand_bounds"
   ]
  },
  {
   "cell_type": "markdown",
   "metadata": {},
   "source": [
    "## Defining the Environment"
   ]
  },
  {
   "cell_type": "code",
   "execution_count": 2,
   "metadata": {
    "collapsed": true
   },
   "outputs": [],
   "source": [
    "def arm_lengths(n_joints):\n",
    "    if n_joints == 3:\n",
    "        return [0.5, 0.3, 0.2]\n",
    "    elif n_joints == 7:\n",
    "        return [0.3, 0.2, 0.2, 0.1, 0.1, 0.05, 0.05]\n",
    "    else:\n",
    "        return [1./n_joints] * n_joints\n",
    "    \n",
    "class Arm(Environment):\n",
    "    use_process = True\n",
    "    def __init__(self, m_mins, m_maxs, s_mins, s_maxs,\n",
    "                 lengths, angle_shift, rest_state):\n",
    "        \n",
    "        Environment.__init__(self, m_mins, m_maxs, s_mins, s_maxs)\n",
    "\n",
    "        self.lengths = lengths\n",
    "        self.angle_shift = angle_shift\n",
    "        self.rest_state = rest_state\n",
    "        self.reset()\n",
    "        \n",
    "    def reset(self):\n",
    "        self.logs = []\n",
    "        self.lines = None\n",
    "        \n",
    "    def compute_motor_command(self, m):\n",
    "        return bounds_min_max(m, self.conf.m_mins, self.conf.m_maxs)\n",
    "\n",
    "    def compute_sensori_effect(self, m):\n",
    "        a = self.angle_shift + np.cumsum(np.array(m))\n",
    "        a_pi = np.pi * a \n",
    "        hand_pos = np.array([np.sum(np.cos(a_pi)*self.lengths), np.sum(np.sin(a_pi)*self.lengths)])\n",
    "        angle = np.mod(a[-1] + 1, 2) - 1\n",
    "        self.logs.append(m)\n",
    "        return [hand_pos[0], hand_pos[1], angle]    \n",
    "        \n",
    "    def plot(self, ax, i, **kwargs_plot):\n",
    "        m = self.logs[i]\n",
    "        angles = np.array(m)\n",
    "        angles[0] += self.angle_shift\n",
    "        x, y = joint_positions(angles, self.lengths, 'std')\n",
    "        x, y = [np.hstack((0., a)) for a in x, y]\n",
    "        l = []\n",
    "        l += ax.plot(x, y, 'grey', lw=4, animated=True, **kwargs_plot)\n",
    "        l += ax.plot(x[0], y[0], 'sk', ms=8, animated=True, **kwargs_plot)\n",
    "        for i in range(len(self.lengths)-1):\n",
    "            l += ax.plot(x[i+1], y[i+1], 'ok', ms=8, animated=True, **kwargs_plot)\n",
    "        l += ax.plot(x[-1], y[-1], 'or', ms=8, animated=True, **kwargs_plot)\n",
    "        self.lines = l\n",
    "        return l \n",
    "        \n",
    "    def plot_update(self, ax, i, **kwargs_plot):\n",
    "        if self.lines is None:\n",
    "            self.plot(ax, 0, **kwargs_plot)\n",
    "        m = self.logs[i]\n",
    "        angles = np.array(m)\n",
    "        angles[0] += self.angle_shift\n",
    "        x, y = joint_positions(angles, self.lengths, 'std')\n",
    "        x, y = [np.hstack((0., a)) for a in x, y]\n",
    "        l = []\n",
    "        l += [[x, y]]\n",
    "        l += [[x[0], y[0]]]\n",
    "        for i in range(len(self.lengths)-1):\n",
    "            l += [[x[i+1], y[i+1]]]\n",
    "        l += [[x[-1], y[-1]]]\n",
    "        for (line, data) in zip(self.lines, l):\n",
    "            line.set_data(data[0], data[1])\n",
    "        return self.lines\n",
    "\n",
    "        \n",
    "class Ball(Environment):\n",
    "    \n",
    "    def __init__(self, m_mins, m_maxs, s_mins, s_maxs,\n",
    "                 size, initial_position, ball_type=\"magnetic\", color='y', random_ball_noise=0.2):\n",
    "        \n",
    "        Environment.__init__(self, m_mins, m_maxs, s_mins, s_maxs)\n",
    "\n",
    "        self.ball_type = ball_type\n",
    "        self.size = size\n",
    "        self.size_sq = size * size\n",
    "        self.color = color\n",
    "        self.initial_position = initial_position\n",
    "        self.random_ball_noise = random_ball_noise\n",
    "        self.reset()\n",
    "    \n",
    "    def reset(self):\n",
    "        self.move = False\n",
    "        self.circle = None\n",
    "        self.pos = np.array(self.initial_position)\n",
    "        self.logs = []\n",
    "        \n",
    "    def compute_motor_command(self, m):\n",
    "        return m\n",
    "\n",
    "    def compute_sensori_effect(self, m):\n",
    "        if self.ball_type == \"magnetic\":\n",
    "            if self.move or ((m[0] - self.pos[0]) ** 2 + (m[1] - self.pos[1]) ** 2 < self.size_sq):\n",
    "                self.pos = m[0:2]\n",
    "                self.move = 1\n",
    "        elif self.ball_type == \"random\":\n",
    "            self.pos = self.pos + np.random.randn(2) * self.random_ball_noise\n",
    "             \n",
    "        self.logs.append([self.pos,\n",
    "                          self.move])\n",
    "        return list(self.pos)\n",
    "    \n",
    "    def plot(self, ax, i, **kwargs_plot):\n",
    "        self.logs = self.logs[-50:]\n",
    "        pos = self.logs[i][0]     \n",
    "        self.circle = Circle((pos[0], pos[1]), self.size, fc=self.color, animated=True, **kwargs_plot)\n",
    "        ax.add_patch(self.circle)  \n",
    "        return [self.circle]\n",
    "        \n",
    "    def plot_update(self, ax, i, **kwargs_plot):\n",
    "        if self.circle is None:\n",
    "            self.plot(ax, 0, **kwargs_plot)\n",
    "        self.logs = self.logs[-50:]\n",
    "        pos = self.logs[i][0]    \n",
    "        self.circle.center = tuple(pos)\n",
    "        return [self.circle]\n",
    "        \n",
    "        \n",
    "class ArmBall(DynamicEnvironment):\n",
    "    def __init__(self, n_joints=3, n_dmp_basis=3, goal_size=1.):\n",
    "        \n",
    "        arm_config = dict(\n",
    "            m_mins=[-1.] * n_joints,\n",
    "            m_maxs=[1.] * n_joints, \n",
    "            s_mins=[-1.] * 3,\n",
    "            s_maxs=[1.] * 3, \n",
    "            lengths=arm_lengths(n_joints), \n",
    "            angle_shift=0.5,\n",
    "            rest_state=[0.] * n_joints)\n",
    "        \n",
    "        ball_config = dict(\n",
    "            m_mins=[-1.] * 2,\n",
    "            m_maxs=[1.] * 2, \n",
    "            s_mins=[-1.] * 2,\n",
    "            s_maxs=[1.] * 2,\n",
    "            size=0.1,\n",
    "            initial_position=[0.6, 0.3],\n",
    "            color=\"b\")\n",
    "        \n",
    "        arm_ball_cfg = dict(\n",
    "            m_mins=[-1.] * n_joints,\n",
    "            m_maxs=[1.] * n_joints,\n",
    "            s_mins=[-1.] * 2,\n",
    "            s_maxs=[1.] * 2,\n",
    "            top_env_cls=Ball, \n",
    "            lower_env_cls=Arm, \n",
    "            top_env_cfg=ball_config, \n",
    "            lower_env_cfg=arm_config, \n",
    "            fun_m_lower= lambda m:m,\n",
    "            fun_s_lower=lambda m,s:s[0:2],\n",
    "            fun_s_top=lambda m,s_lower,s:s)\n",
    "        \n",
    "        dynamic_environment_config = dict(\n",
    "            env_cfg=arm_ball_cfg,\n",
    "            env_cls=HierarchicalEnvironment,\n",
    "            m_mins=[-1.] * n_joints * n_dmp_basis, \n",
    "            m_maxs=[1.] * n_joints * n_dmp_basis, \n",
    "            s_mins=[-goal_size] * 2,\n",
    "            s_maxs=[goal_size] * 2,\n",
    "            n_bfs=n_dmp_basis,\n",
    "            move_steps=50, \n",
    "            n_dynamic_motor_dims=n_joints,\n",
    "            n_dynamic_sensori_dims=2,\n",
    "            sensori_traj_type=\"end_point\",\n",
    "            max_params=1000)\n",
    "        \n",
    "        DynamicEnvironment.__init__(self, **dynamic_environment_config)\n",
    "        \n",
    "        \n",
    "        fig, ax = plt.subplots()\n",
    "        self.fig = fig\n",
    "        self.ax = ax\n",
    "        \n",
    "    def random_motor(self): return self.random_motors()[0]\n",
    "    \n",
    "    \n",
    "    def plot_frame(self, i):\n",
    "        self.ax.cla()\n",
    "        self.env.lower_env.plot(self.ax, i) # Plot Arm\n",
    "        self.env.top_env.plot(self.ax, i) # Plot Ball\n",
    "        self.ax.set_aspect('equal')\n",
    "        plt.xlim([-1, 1])\n",
    "        plt.ylim([-1, 1])\n",
    "        \n",
    "    def fig2data(self):\n",
    "        \"\"\"\n",
    "        @brief Convert a Matplotlib figure to a 4D numpy array with RGBA channels and return it\n",
    "        @param fig a matplotlib figure\n",
    "        @return a numpy 3D array of RGBA values\n",
    "        \"\"\"\n",
    "        # draw the renderer\n",
    "        self.fig.canvas.draw ( )\n",
    "\n",
    "        # Get the RGBA buffer from the figure\n",
    "        w,h = self.fig.canvas.get_width_height()\n",
    "        buf = np.fromstring (self.fig.canvas.tostring_argb(), dtype=np.uint8 )\n",
    "        buf.shape = ( w, h,4 )\n",
    "\n",
    "        # canvas.tostring_argb give pixmap in ARGB mode. Roll the ALPHA channel to have it in RGBA mode\n",
    "        buf = np.roll ( buf, 3, axis = 2 )\n",
    "        return buf\n",
    "    \n",
    "    def compute_sensori_effect(self, m_traj):\n",
    "        s = self.env.update(m_traj, reset=False, log=False)\n",
    "        self.s_traj = s\n",
    "        self.plot_frame(self.end_point-1)\n",
    "        x = self.fig2data()\n",
    "        \n",
    "        z = s[-1]\n",
    "        \n",
    "        return bounds_min_max(z, self.conf.s_mins, self.conf.s_maxs)    "
   ]
  },
  {
   "cell_type": "markdown",
   "metadata": {},
   "source": [
    "## Random Motor Action"
   ]
  },
  {
   "cell_type": "code",
   "execution_count": 3,
   "metadata": {},
   "outputs": [
    {
     "data": {
      "image/png": "[encoded data removed]",
      "text/plain": [
       "<matplotlib.figure.Figure at 0x7f5c6bf85bd0>"
      ]
     },
     "metadata": {},
     "output_type": "display_data"
    }
   ],
   "source": [
    "n_joints = 7      # Number of joints\n",
    "n_dmp_basis = 3   # Number of basis per joint\n",
    "goal_size = 10.   # Size of the 2D goal space\n",
    "\n",
    "environment = ArmBall(n_joints, n_dmp_basis, goal_size)\n",
    "\n",
    "m = environment.random_motor()\n",
    "s = environment.update(m)"
   ]
  },
  {
   "cell_type": "markdown",
   "metadata": {},
   "source": [
    "## Goal Babbling"
   ]
  },
  {
   "cell_type": "code",
   "execution_count": 4,
   "metadata": {},
   "outputs": [
    {
     "data": {
      "image/png": "[encoded data removed]",
      "text/plain": [
       "<matplotlib.figure.Figure at 0x7f5c6ae49850>"
      ]
     },
     "metadata": {},
     "output_type": "display_data"
    }
   ],
   "source": [
    "from explauto.sensorimotor_model.non_parametric import NonParametric\n",
    "from explauto.utils import rand_bounds\n",
    "\n",
    "n_joints = 7      # Number of joints\n",
    "n_dmp_basis = 3   # Number of basis per joint\n",
    "goal_size = 10.   # Size of the 2D goal space\n",
    "\n",
    "ball_list = []\n",
    "z_list = []\n",
    "\n",
    "environment = ArmBall(n_joints, n_dmp_basis, goal_size)\n",
    "\n",
    "\n",
    "# Parameters to change:\n",
    "iterations = 200 # Number of iterations\n",
    "sigma_explo_ratio = 0.05 # Exploration noise (standard deviation)\n",
    "\n",
    "# Initialization of the sensorimotor model\n",
    "sm_model = NonParametric(environment.conf, sigma_explo_ratio=sigma_explo_ratio, fwd='NN', inv='NN')\n",
    "\n",
    "for i in range(iterations):\n",
    "    if i < 100 or np.random.random() < 0.2: \n",
    "        # Do random motor babbling in first 100 iterations and then in 20% of the iterations\n",
    "        m = environment.random_motors()[0]\n",
    "    else:\n",
    "        # Sample a random goal in the sensory space:\n",
    "        \n",
    "        s_goal = rand_bounds(environment.conf.s_bounds)[0]\n",
    "        #s_goal = representation.random_z() # TODO ALEX\n",
    "        \n",
    "        # Infer a motor command to reach that goal using the Nearest Neighbor algorithm (plus exploration noise):\n",
    "        m = sm_model.inverse_prediction(s_goal)\n",
    "        \n",
    "    s = environment.update(m) # observe the sensory effect s=(x, y): the last position of the ball\n",
    "    \n",
    "    ball_list += [environment.s_traj[-1]] # ball positions at the end of movements\n",
    "    z_list += [s] # latent representation of ball position\n",
    "    \n",
    "    sm_model.update(m, s) # update sensorimotor model\n",
    "    "
   ]
  },
  {
   "cell_type": "markdown",
   "metadata": {},
   "source": [
    "## Performance"
   ]
  },
  {
   "cell_type": "code",
   "execution_count": 5,
   "metadata": {
    "collapsed": true
   },
   "outputs": [],
   "source": [
    "# Measure of exploration: discretize as a grid of size gs, count reached cells\n",
    "def compute_explo(data, mins, maxs, gs=10):\n",
    "    n = len(mins)\n",
    "    if len(data) == 0:\n",
    "        return 0\n",
    "    else:\n",
    "        assert len(data[0]) == n\n",
    "        epss = (maxs - mins) / gs\n",
    "        grid = np.zeros([gs] * n)\n",
    "        for i in range(len(data)):\n",
    "            idxs = np.array((data[i] - mins) / epss, dtype=int)\n",
    "            idxs[idxs>=gs] = gs-1\n",
    "            idxs[idxs<0] = 0\n",
    "            grid[tuple(idxs)] = grid[tuple(idxs)] + 1\n",
    "        grid[grid > 1] = 1\n",
    "    return np.sum(grid)"
   ]
  },
  {
   "cell_type": "code",
   "execution_count": 6,
   "metadata": {},
   "outputs": [
    {
     "data": {
      "text/plain": [
       "19.0"
      ]
     },
     "execution_count": 6,
     "metadata": {},
     "output_type": "execute_result"
    }
   ],
   "source": [
    "compute_explo(ball_list, np.array([-1., -1.]), np.array([1., 1.]))"
   ]
  },
  {
   "cell_type": "code",
   "execution_count": 7,
   "metadata": {},
   "outputs": [
    {
     "data": {
      "image/png": "[encoded data removed]",
      "text/plain": [
       "<matplotlib.figure.Figure at 0x7f5c6ad4d510>"
      ]
     },
     "metadata": {},
     "output_type": "display_data"
    }
   ],
   "source": [
    "fig, ax = plt.subplots()\n",
    "for ball in ball_list:\n",
    "    ax.plot(ball[0], ball[1], \"ro\", lw=2, alpha=0.3)\n",
    "        \n",
    "plt.xlim([-1, 1])\n",
    "plt.ylim([-1, 1])\n",
    "plt.grid()"
   ]
  }
 ],
 "metadata": {
  "kernelspec": {
   "display_name": "Python 2",
   "language": "python",
   "name": "python2"
  },
  "language_info": {
   "codemirror_mode": {
    "name": "ipython",
    "version": 2
   },
   "file_extension": ".py",
   "mimetype": "text/x-python",
   "name": "python",
   "nbconvert_exporter": "python",
   "pygments_lexer": "ipython2",
   "version": "2.7.12"
  }
 },
 "nbformat": 4,
 "nbformat_minor": 2
}
