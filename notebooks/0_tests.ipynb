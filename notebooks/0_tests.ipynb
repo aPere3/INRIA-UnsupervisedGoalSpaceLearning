{
 "cells": [
  {
   "cell_type": "markdown",
   "metadata": {},
   "source": [
    "# Test notebook"
   ]
  },
  {
   "cell_type": "code",
   "execution_count": 1,
   "metadata": {
    "collapsed": true
   },
   "outputs": [],
   "source": [
    "import sys\n",
    "sys.path.append(\"../src\")\n",
    "from IPython.display import Image\n",
    "from IPython.display import display\n",
    "import numpy as np\n",
    "import matplotlib.pyplot as plt\n",
    "%matplotlib inline"
   ]
  },
  {
   "cell_type": "markdown",
   "metadata": {},
   "source": [
    "# `rendering` module"
   ]
  },
  {
   "cell_type": "code",
   "execution_count": 2,
   "metadata": {
    "collapsed": true
   },
   "outputs": [],
   "source": [
    "import rendering"
   ]
  },
  {
   "cell_type": "code",
   "execution_count": 3,
   "metadata": {
    "collapsed": true
   },
   "outputs": [],
   "source": [
    "rend = rendering.ArmToolBallRenderer()"
   ]
  },
  {
   "cell_type": "code",
   "execution_count": 4,
   "metadata": {},
   "outputs": [
    {
     "data": {
      "text/plain": [
       "<matplotlib.image.AxesImage at 0x7f0d781fe710>"
      ]
     },
     "execution_count": 4,
     "metadata": {},
     "output_type": "execute_result"
    },
    {
     "data": {
      "image/png": "[encoded data removed]",
      "text/plain": [
       "<matplotlib.figure.Figure at 0x7f0dc1f88790>"
      ]
     },
     "metadata": {},
     "output_type": "display_data"
    }
   ],
   "source": [
    "plt.imshow(rend._sample_corr())"
   ]
  },
  {
   "cell_type": "code",
   "execution_count": 5,
   "metadata": {
    "collapsed": true
   },
   "outputs": [],
   "source": [
    "image_list = list()\n",
    "for i in range(50):\n",
    "    arr = rend._sample_corr() * 255\n",
    "    image_list.append(arr.reshape([70,70,1]).astype(np.int8))"
   ]
  },
  {
   "cell_type": "markdown",
   "metadata": {},
   "source": [
    "# `environments` module"
   ]
  },
  {
   "cell_type": "code",
   "execution_count": 6,
   "metadata": {},
   "outputs": [],
   "source": [
    "import environments"
   ]
  },
  {
   "cell_type": "markdown",
   "metadata": {},
   "source": [
    "### ArmToolBall"
   ]
  },
  {
   "cell_type": "code",
   "execution_count": 9,
   "metadata": {},
   "outputs": [],
   "source": [
    "arm_ball_static_config = dict(\n",
    "    m_mins=[-1.] * 3,\n",
    "    m_maxs=[1.] * 3, \n",
    "    s_mins=[-1.] * 3,\n",
    "    s_maxs=[1.] * 3, \n",
    "    arm_lengths=[0.5, 0.3, 0.2], \n",
    "    arm_angle_shift=0.5,\n",
    "    arm_rest_state=[0.] * 3,\n",
    "    ball_size=0.1,\n",
    "    ball_initial_position=[0.6, 0.6],\n",
    "    tool_length = 2 * 20./70.,\n",
    "    tool_initial_pose = [-0.7,-0.7,0.]\n",
    "    )\n",
    "\n",
    "\n",
    "static_env = environments.ArmToolBallStatic(**arm_ball_static_config)"
   ]
  },
  {
   "cell_type": "code",
   "execution_count": 10,
   "metadata": {},
   "outputs": [
    {
     "data": {
      "text/plain": [
       "[0.6, 0.6, -0.7, -0.7, 0.0]"
      ]
     },
     "execution_count": 10,
     "metadata": {},
     "output_type": "execute_result"
    }
   ],
   "source": [
    "static_env.update([0.5, 0.5, 0.5])"
   ]
  },
  {
   "cell_type": "code",
   "execution_count": 11,
   "metadata": {
    "collapsed": true
   },
   "outputs": [],
   "source": [
    "dynamic_env = environments.ArmToolBallDynamic(arm_ball_static_config, n_dmp_basis=3, goal_size=1.)"
   ]
  },
  {
   "cell_type": "code",
   "execution_count": 15,
   "metadata": {},
   "outputs": [],
   "source": [
    "while dynamic_env.update(np.random.uniform(-1,1,9)).tolist()[0:2] == [ 0.6,  0.6]:\n",
    "    dynamic_env.reset()"
   ]
  },
  {
   "cell_type": "code",
   "execution_count": 16,
   "metadata": {},
   "outputs": [],
   "source": [
    "image_list = list()\n",
    "\n",
    "for coord in dynamic_env.get_last_traj():\n",
    "    coord = (coord+1)/2\n",
    "    arr = rend.draw(coord.tolist()) * 255\n",
    "    arr = arr.reshape([70,70,1])\n",
    "    arr = np.repeat(arr,3,axis=-1)\n",
    "    image_list.append(arr.astype(np.int8))"
   ]
  },
  {
   "cell_type": "code",
   "execution_count": 17,
   "metadata": {},
   "outputs": [
    {
     "name": "stderr",
     "output_type": "stream",
     "text": [
      "100%|██████████| 51/51 [00:00<00:00, 1756.44it/s]\n"
     ]
    },
    {
     "data": {
      "text/html": [
       "<div align=middle><video width='512' loop='1' autoplay='1'src='data:video/mp4;base64,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' controls>Sorry, seems like your browser doesn't support HTML5 audio/video</video></div>"
      ],
      "text/plain": [
       "<moviepy.video.io.html_tools.HTML2 object>"
      ]
     },
     "execution_count": 17,
     "metadata": {},
     "output_type": "execute_result"
    }
   ],
   "source": [
    "import moviepy.editor\n",
    "clip = moviepy.editor.ImageSequenceClip(image_list, fps=25)\n",
    "clip.ipython_display(width=512, autoplay=1, loop=1)"
   ]
  },
  {
   "cell_type": "markdown",
   "metadata": {},
   "source": [
    "### ArmBall"
   ]
  },
  {
   "cell_type": "code",
   "execution_count": 18,
   "metadata": {
    "collapsed": true
   },
   "outputs": [],
   "source": [
    "arm_ball_static_config = dict(\n",
    "    m_mins=[-1.] * 3,\n",
    "    m_maxs=[1.] * 3, \n",
    "    s_mins=[-1.] * 3,\n",
    "    s_maxs=[1.] * 3, \n",
    "    arm_lengths=[0.5, 0.3, 0.2], \n",
    "    arm_angle_shift=0.5,\n",
    "    arm_rest_state=[0.] * 3,\n",
    "    ball_size=0.1,\n",
    "    ball_initial_position=[0.6, 0.6],\n",
    "    )\n",
    "\n",
    "\n",
    "static_env = environments.ArmBallStatic(**arm_ball_static_config)"
   ]
  },
  {
   "cell_type": "code",
   "execution_count": 19,
   "metadata": {},
   "outputs": [
    {
     "data": {
      "text/plain": [
       "[0.59999999999999998, 0.59999999999999998]"
      ]
     },
     "execution_count": 19,
     "metadata": {},
     "output_type": "execute_result"
    }
   ],
   "source": [
    "static_env.update([0.5, 0.5, 0.5])"
   ]
  },
  {
   "cell_type": "code",
   "execution_count": 22,
   "metadata": {
    "collapsed": true
   },
   "outputs": [],
   "source": [
    "dynamic_env = environments.ArmBallDynamic(arm_ball_static_config, n_dmp_basis=3, goal_size=1.)\n",
    "rend = rendering.ArmBallRenderer()"
   ]
  },
  {
   "cell_type": "code",
   "execution_count": 23,
   "metadata": {
    "collapsed": true
   },
   "outputs": [],
   "source": [
    "while dynamic_env.update(np.random.uniform(-1,1,9)).tolist() == [ 0.6,  0.6]:\n",
    "    dynamic_env.reset()"
   ]
  },
  {
   "cell_type": "code",
   "execution_count": 24,
   "metadata": {
    "collapsed": true
   },
   "outputs": [],
   "source": [
    "image_list = list()\n",
    "\n",
    "for coord in dynamic_env.get_last_traj():\n",
    "    coord = (coord+1)/2\n",
    "    arr = rend.draw(coord.tolist()) * 255\n",
    "    arr = arr.reshape([70,70,1])\n",
    "    arr = np.repeat(arr,3,axis=-1)\n",
    "    image_list.append(arr.astype(np.int8))"
   ]
  },
  {
   "cell_type": "code",
   "execution_count": 25,
   "metadata": {
    "scrolled": false
   },
   "outputs": [
    {
     "name": "stderr",
     "output_type": "stream",
     "text": [
      "100%|██████████| 51/51 [00:00<00:00, 956.61it/s]\n"
     ]
    },
    {
     "data": {
      "text/html": [
       "<div align=middle><video width='512' loop='1' autoplay='1'src='data:video/mp4;base64,AAAAIGZ0eXBpc29tAAACAGlzb21pc28yYXZjMW1wNDEAAAAIZnJlZQAABvJtZGF0AAACVAYF//9Q3EXpvebZSLeWLNgg2SPu73gyNjQgLSBjb3JlIDE0OCByMjY0MyA1YzY1NzA0IC0gSC4yNjQvTVBFRy00IEFWQyBjb2RlYyAtIENvcHlsZWZ0IDIwMDMtMjAxNSAtIGh0dHA6Ly93d3cudmlkZW9sYW4ub3JnL3gyNjQuaHRtbCAtIG9wdGlvbnM6IGNhYmFjPTAgcmVmPTEgZGVibG9jaz0wOjA6MCBhbmFseXNlPTA6MCBtZT1kaWEgc3VibWU9MCBwc3k9MSBwc3lfcmQ9MS4wMDowLjAwIG1peGVkX3JlZj0wIG1lX3JhbmdlPTE2IGNocm9tYV9tZT0xIHRyZWxsaXM9MCA4eDhkY3Q9MCBjcW09MCBkZWFkem9uZT0yMSwxMSBmYXN0X3Bza2lwPTEgY2hyb21hX3FwX29mZnNldD0wIHRocmVhZHM9MiBsb29rYWhlYWRfdGhyZWFkcz0xIHNsaWNlZF90aHJlYWRzPTAgbnI9MCBkZWNpbWF0ZT0xIGludGVybGFjZWQ9MCBibHVyYXlfY29tcGF0PTAgY29uc3RyYWluZWRfaW50cmE9MCBiZnJhbWVzPTAgd2VpZ2h0cD0wIGtleWludD0yNTAga2V5aW50X21pbj0yNSBzY2VuZWN1dD0wIGludHJhX3JlZnJlc2g9MCByYz1jcmYgbWJ0cmVlPTAgY3JmPTIzLjAgcWNvbXA9MC42MCBxcG1pbj0wIHFwbWF4PTY5IHFwc3RlcD00IGlwX3JhdGlvPTEuNDAgYXE9MACAAAAAomWIhDomKAAJAsnJycnXXXXXXXXXXXXXHYACBgCBkgHoq8sqwDOEPu3aBQgAWxFoY0fC0SxI6+gAMoABDeKBXnBEmX+GGUV7UmmpeL+qqArCIcVYSkljq4kR5BhgAWMUko1fk0IN7Pgg/7nEA3XEBhJh+6wqGGAA4DcP7RG8KxRP8BZrAVsIB+itPSI9dYBDgMMnGHnlpQ1TAABAASDXXXXfXgAAAAVBmiKDUAAAAAVBmkDoNQAAABhBmmBqCfGbAg1D9sPrWfVHrzCGZEG77s8AAAARQZqAIoJ8TlBZHG7g/lfnLHgAAAANQZqgKoJ94QOGxK8ajwAAABRBmsAugnxUfFgfOADDMVhHQAJ54AAAAAtBmuAygn3oAj8bngAAAAZBmwA2g1AAAAAGQZsgNoNQAAAADUGbQDqCfLDyDOeYGHgAAAAGQZtgOoNQAAAABkGbgDqDUAAAAAZBm6A6g1AAAAAGQZvAOoNQAAAABkGb4DqDUAAAAAZBmgA6g1AAAAAGQZogOoNQAAAABkGaQDqDUAAAAAZBmmA6g1AAAAAGQZqAOoNQAAAABkGaoDqDUAAAAAZBmsA6g1AAAAAGQZrgOoNQAAAABkGbADqDUAAAAAZBmyA6g1AAAAAGQZtAOoNQAAAABkGbYDqDUAAAAAZBm4A6g1AAAAAGQZugOoNQAAAABkGbwDqDUAAAAAlBm+A2gnEhGeAAAAANQZoANoJwYgg4MQQTQAAAAHRBmiAih0Ihg3gArRkca1m/+3CmAAgBhyiygsmSTSSJkiZIl/5AAAg3gACBmAdLACQBgFJQLNlSKCDSjaRDGjJjJIZBBhTABwDDllFhZMmkkkSJkiRLDA4AAgSgACBkAAICcsAJGFINFK/IEUGjbRMhh8P80AAAAGlBmkAmh0SCDhEFAuAA4OhzQo+NRXyGBObkBD7wMISeMXCaVJn4xEpFysoYaAJx5XQDiDHTLeT8SJEQAMv06c1A/Bwc2A42ORXwFxKcvCXwMISeMXCKVJj4vE5Fys5RhmAnCrlgcE465Y0AAAAUQZpgKodhjwwTuUgkP/cgCGS25oAAAAASQZqALodhDwgE8uIDvPRmURzQAAAAVUGaoCKHRAjCmAFgACAQAEkAwwYDEJITVWA4AAgRgACBkAAICssAJGFINFK/IEUGjbRMhhggkF4HAAEG0AAQNwDJYASAMApKBZsmRQQaUdQIY2aOaFwAAAAJQZrAJodiPERcAAAACUGa4C6HYjxEXAAAAAxBmwAyh2I8QWaieLgAAAAGQZsgNoNQAAAACkGbQDaE4jxEnjIAAAAGQZtgNoNQAAAAZkGbgDaEn+CgQL4ACAEAw8sIponrz1eXdlT0lMAAMhlFy2DgAGQyi5YHAAMhlFyxInxMXgAsAAQBQHIAAOAdPPnoj/LrAbtfHgACG2AAIRIAAgCAAUlgcAAQ2wABCJAAEAYACUt4uAAAAAZBm6A2g1AAAAAKQZvANoViJMRGQAAAAAZBm+A6g1AAAAAGQZoAOoNQAAAABkGaIDqDUAAAAApBmkA2hUTkicZAAAADy21vb3YAAABsbXZoZAAAAAAAAAAAAAAAAAAAA+gAAAf4AAEAAAEAAAAAAAAAAAAAAAABAAAAAAAAAAAAAAAAAAAAAQAAAAAAAAAAAAAAAAAAQAAAAAAAAAAAAAAAAAAAAAAAAAAAAAAAAAAAAAAAAAIAAAL1dHJhawAAAFx0a2hkAAAAAwAAAAAAAAAAAAAAAQAAAAAAAAf4AAAAAAAAAAAAAAAAAAAAAAABAAAAAAAAAAAAAAAAAAAAAQAAAAAAAAAAAAAAAAAAQAAAAABGAAAARgAAAAAAJGVkdHMAAAAcZWxzdAAAAAAAAAABAAAH+AAAAAAAAQAAAAACbW1kaWEAAAAgbWRoZAAAAAAAAAAAAAAAAAAAMgAAAGYAVcQAAAAAAC1oZGxyAAAAAAAAAAB2aWRlAAAAAAAAAAAAAAAAVmlkZW9IYW5kbGVyAAAAAhhtaW5mAAAAFHZtaGQAAAABAAAAAAAAAAAAAAAkZGluZgAAABxkcmVmAAAAAAAAAAEAAAAMdXJsIAAAAAEAAAHYc3RibAAAAJRzdHNkAAAAAAAAAAEAAACEYXZjMQAAAAAAAAABAAAAAAAAAAAAAAAAAAAAAABGAEYASAAAAEgAAAAAAAAAAQAAAAAAAAAAAAAAAAAAAAAAAAAAAAAAAAAAAAAAAAAAABj//wAAAC5hdmNDAULACv/hABdnQsAK2hS+aaEAAAMAAQAAAwAyDxImoAEABGjOD8gAAAAYc3R0cwAAAAAAAAABAAAAMwAAAgAAAAAUc3RzcwAAAAAAAAABAAAAAQAAABxzdHNjAAAAAAAAAAEAAAABAAAAMwAAAAEAAADgc3RzegAAAAAAAAAAAAAAMwAAAv4AAAAJAAAACQAAABwAAAAVAAAAEQAAABgAAAAPAAAACgAAAAoAAAARAAAACgAAAAoAAAAKAAAACgAAAAoAAAAKAAAACgAAAAoAAAAKAAAACgAAAAoAAAAKAAAACgAAAAoAAAAKAAAACgAAAAoAAAAKAAAACgAAAAoAAAANAAAAEQAAAHgAAABtAAAAGAAAABYAAABZAAAADQAAAA0AAAAQAAAACgAAAA4AAAAKAAAAagAAAAoAAAAOAAAACgAAAAoAAAAKAAAADgAAABRzdGNvAAAAAAAAAAEAAAAwAAAAYnVkdGEAAABabWV0YQAAAAAAAAAhaGRscgAAAAAAAAAAbWRpcmFwcGwAAAAAAAAAAAAAAAAtaWxzdAAAACWpdG9vAAAAHWRhdGEAAAABAAAAAExhdmY1Ni40MC4xMDE=' controls>Sorry, seems like your browser doesn't support HTML5 audio/video</video></div>"
      ],
      "text/plain": [
       "<moviepy.video.io.html_tools.HTML2 object>"
      ]
     },
     "execution_count": 25,
     "metadata": {},
     "output_type": "execute_result"
    }
   ],
   "source": [
    "import moviepy.editor\n",
    "clip = moviepy.editor.ImageSequenceClip(image_list, fps=25)\n",
    "clip.ipython_display(width=512, autoplay=1, loop=1)"
   ]
  },
  {
   "cell_type": "markdown",
   "metadata": {},
   "source": [
    "### ArmTwoBall"
   ]
  },
  {
   "cell_type": "code",
   "execution_count": 27,
   "metadata": {},
   "outputs": [],
   "source": [
    "arm_ball_static_config = dict(\n",
    "    m_mins=[-1.] * 3,\n",
    "    m_maxs=[1.] * 3, \n",
    "    s_mins=[-1.] * 3,\n",
    "    s_maxs=[1.] * 3, \n",
    "    arm_lengths=[0.5, 0.3, 0.2], \n",
    "    arm_angle_shift=0.5,\n",
    "    arm_rest_state=[0.] * 3,\n",
    "    ball_size=0.1,\n",
    "    balls_initial_position=[0.6, 0.6, -0.6, -0.6],\n",
    "    )\n",
    "\n",
    "\n",
    "static_env = environments.ArmTwoBallsStatic(**arm_ball_static_config)"
   ]
  },
  {
   "cell_type": "code",
   "execution_count": 28,
   "metadata": {},
   "outputs": [
    {
     "data": {
      "text/plain": [
       "[0.6, 0.6, -0.6, -0.6]"
      ]
     },
     "execution_count": 28,
     "metadata": {},
     "output_type": "execute_result"
    }
   ],
   "source": [
    "static_env.update([0.5, 0.5, 0.5])"
   ]
  },
  {
   "cell_type": "code",
   "execution_count": 30,
   "metadata": {},
   "outputs": [],
   "source": [
    "dynamic_env = environments.ArmTwoBallsDynamic(arm_ball_static_config, n_dmp_basis=3, goal_size=1.)\n",
    "rend = rendering.ArmTwoBallRenderer()"
   ]
  },
  {
   "cell_type": "code",
   "execution_count": 34,
   "metadata": {
    "collapsed": true
   },
   "outputs": [],
   "source": [
    "while dynamic_env.update(np.random.uniform(-1,1,9)).tolist() == [ 0.6,  0.6, -0.6, -0.6]:\n",
    "    dynamic_env.reset()"
   ]
  },
  {
   "cell_type": "code",
   "execution_count": 35,
   "metadata": {
    "collapsed": true
   },
   "outputs": [],
   "source": [
    "image_list = list()\n",
    "\n",
    "for coord in dynamic_env.get_last_traj():\n",
    "    coord = (coord+1)/2\n",
    "    arr = rend.draw(coord.tolist()) * 255\n",
    "    arr = arr.reshape([70,70,1])\n",
    "    arr = np.repeat(arr,3,axis=-1)\n",
    "    image_list.append(arr.astype(np.int8))"
   ]
  },
  {
   "cell_type": "code",
   "execution_count": 36,
   "metadata": {},
   "outputs": [
    {
     "name": "stderr",
     "output_type": "stream",
     "text": [
      "100%|██████████| 51/51 [00:00<00:00, 1796.65it/s]\n"
     ]
    },
    {
     "data": {
      "text/html": [
       "<div align=middle><video width='512' loop='1' autoplay='1'src='data:video/mp4;base64,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' controls>Sorry, seems like your browser doesn't support HTML5 audio/video</video></div>"
      ],
      "text/plain": [
       "<moviepy.video.io.html_tools.HTML2 object>"
      ]
     },
     "execution_count": 36,
     "metadata": {},
     "output_type": "execute_result"
    }
   ],
   "source": [
    "import moviepy.editor\n",
    "clip = moviepy.editor.ImageSequenceClip(image_list, fps=25)\n",
    "clip.ipython_display(width=512, autoplay=1, loop=1)"
   ]
  },
  {
   "cell_type": "markdown",
   "metadata": {},
   "source": [
    "### ArmArrow"
   ]
  },
  {
   "cell_type": "code",
   "execution_count": 38,
   "metadata": {},
   "outputs": [],
   "source": [
    "arm_ball_static_config = dict(\n",
    "    m_mins=[-1.] * 3,\n",
    "    m_maxs=[1.] * 3, \n",
    "    s_mins=[-1.] * 3,\n",
    "    s_maxs=[1.] * 3, \n",
    "    arm_lengths=[0.5, 0.3, 0.2], \n",
    "    arm_angle_shift=0.5,\n",
    "    arm_rest_state=[0.] * 3,\n",
    "    arrow_size=0.1,\n",
    "    arrow_initial_pose=[0.6, 0.6, 0.],\n",
    "    )\n",
    "\n",
    "\n",
    "static_env = environments.ArmArrowStatic(**arm_ball_static_config)"
   ]
  },
  {
   "cell_type": "code",
   "execution_count": 39,
   "metadata": {},
   "outputs": [
    {
     "data": {
      "text/plain": [
       "[0.6, 0.6, 0.0]"
      ]
     },
     "execution_count": 39,
     "metadata": {},
     "output_type": "execute_result"
    }
   ],
   "source": [
    "static_env.update([0.5, 0.5, 0.5])"
   ]
  },
  {
   "cell_type": "code",
   "execution_count": 40,
   "metadata": {
    "collapsed": true
   },
   "outputs": [],
   "source": [
    "dynamic_env = environments.ArmArrowDynamic(arm_ball_static_config, n_dmp_basis=3, goal_size=1.)\n",
    "rend = rendering.ArmArrowRenderer()"
   ]
  },
  {
   "cell_type": "code",
   "execution_count": 41,
   "metadata": {},
   "outputs": [
    {
     "ename": "ValueError",
     "evalue": "all the input arrays must have same number of dimensions",
     "output_type": "error",
     "traceback": [
      "\u001b[0;31m\u001b[0m",
      "\u001b[0;31mValueError\u001b[0mTraceback (most recent call last)",
      "\u001b[0;32m<ipython-input-41-1311ed728d32>\u001b[0m in \u001b[0;36m<module>\u001b[0;34m()\u001b[0m\n\u001b[0;32m----> 1\u001b[0;31m \u001b[0;32mwhile\u001b[0m \u001b[0mdynamic_env\u001b[0m\u001b[0;34m.\u001b[0m\u001b[0mupdate\u001b[0m\u001b[0;34m(\u001b[0m\u001b[0mnp\u001b[0m\u001b[0;34m.\u001b[0m\u001b[0mrandom\u001b[0m\u001b[0;34m.\u001b[0m\u001b[0muniform\u001b[0m\u001b[0;34m(\u001b[0m\u001b[0;34m-\u001b[0m\u001b[0;36m1\u001b[0m\u001b[0;34m,\u001b[0m\u001b[0;36m1\u001b[0m\u001b[0;34m,\u001b[0m\u001b[0;36m9\u001b[0m\u001b[0;34m)\u001b[0m\u001b[0;34m)\u001b[0m\u001b[0;34m.\u001b[0m\u001b[0mtolist\u001b[0m\u001b[0;34m(\u001b[0m\u001b[0;34m)\u001b[0m \u001b[0;34m==\u001b[0m \u001b[0;34m[\u001b[0m \u001b[0;36m0.6\u001b[0m\u001b[0;34m,\u001b[0m  \u001b[0;36m0.6\u001b[0m\u001b[0;34m,\u001b[0m \u001b[0;36m0.\u001b[0m\u001b[0;34m]\u001b[0m\u001b[0;34m:\u001b[0m\u001b[0;34m\u001b[0m\u001b[0m\n\u001b[0m\u001b[1;32m      2\u001b[0m     \u001b[0mdynamic_env\u001b[0m\u001b[0;34m.\u001b[0m\u001b[0mreset\u001b[0m\u001b[0;34m(\u001b[0m\u001b[0;34m)\u001b[0m\u001b[0;34m\u001b[0m\u001b[0m\n",
      "\u001b[0;32m/usr/local/lib/python2.7/dist-packages/explauto/environment/dynamic_environment.pyc\u001b[0m in \u001b[0;36mupdate\u001b[0;34m(self, m_ag, reset, log)\u001b[0m\n\u001b[1;32m    130\u001b[0m             \u001b[0mself\u001b[0m\u001b[0;34m.\u001b[0m\u001b[0mreset\u001b[0m\u001b[0;34m(\u001b[0m\u001b[0;34m)\u001b[0m\u001b[0;34m\u001b[0m\u001b[0m\n\u001b[1;32m    131\u001b[0m         \u001b[0;32mif\u001b[0m \u001b[0mlen\u001b[0m\u001b[0;34m(\u001b[0m\u001b[0mnp\u001b[0m\u001b[0;34m.\u001b[0m\u001b[0marray\u001b[0m\u001b[0;34m(\u001b[0m\u001b[0mm_ag\u001b[0m\u001b[0;34m)\u001b[0m\u001b[0;34m.\u001b[0m\u001b[0mshape\u001b[0m\u001b[0;34m)\u001b[0m \u001b[0;34m==\u001b[0m \u001b[0;36m1\u001b[0m\u001b[0;34m:\u001b[0m\u001b[0;34m\u001b[0m\u001b[0m\n\u001b[0;32m--> 132\u001b[0;31m             \u001b[0ms\u001b[0m \u001b[0;34m=\u001b[0m \u001b[0mself\u001b[0m\u001b[0;34m.\u001b[0m\u001b[0mone_update\u001b[0m\u001b[0;34m(\u001b[0m\u001b[0mm_ag\u001b[0m\u001b[0;34m,\u001b[0m \u001b[0mlog\u001b[0m\u001b[0;34m)\u001b[0m\u001b[0;34m\u001b[0m\u001b[0m\n\u001b[0m\u001b[1;32m    133\u001b[0m         \u001b[0;32melse\u001b[0m\u001b[0;34m:\u001b[0m\u001b[0;34m\u001b[0m\u001b[0m\n\u001b[1;32m    134\u001b[0m             \u001b[0ms\u001b[0m \u001b[0;34m=\u001b[0m \u001b[0;34m[\u001b[0m\u001b[0;34m]\u001b[0m\u001b[0;34m\u001b[0m\u001b[0m\n",
      "\u001b[0;32m/usr/local/lib/python2.7/dist-packages/explauto/environment/environment.pyc\u001b[0m in \u001b[0;36mone_update\u001b[0;34m(self, m_ag, log)\u001b[0m\n\u001b[1;32m     68\u001b[0m     \u001b[0;32mdef\u001b[0m \u001b[0mone_update\u001b[0m\u001b[0;34m(\u001b[0m\u001b[0mself\u001b[0m\u001b[0;34m,\u001b[0m \u001b[0mm_ag\u001b[0m\u001b[0;34m,\u001b[0m \u001b[0mlog\u001b[0m\u001b[0;34m=\u001b[0m\u001b[0mTrue\u001b[0m\u001b[0;34m)\u001b[0m\u001b[0;34m:\u001b[0m\u001b[0;34m\u001b[0m\u001b[0m\n\u001b[1;32m     69\u001b[0m         \u001b[0mm_env\u001b[0m \u001b[0;34m=\u001b[0m \u001b[0mself\u001b[0m\u001b[0;34m.\u001b[0m\u001b[0mcompute_motor_command\u001b[0m\u001b[0;34m(\u001b[0m\u001b[0mm_ag\u001b[0m\u001b[0;34m)\u001b[0m\u001b[0;34m\u001b[0m\u001b[0m\n\u001b[0;32m---> 70\u001b[0;31m         \u001b[0ms\u001b[0m \u001b[0;34m=\u001b[0m \u001b[0mself\u001b[0m\u001b[0;34m.\u001b[0m\u001b[0mcompute_sensori_effect\u001b[0m\u001b[0;34m(\u001b[0m\u001b[0mm_env\u001b[0m\u001b[0;34m)\u001b[0m\u001b[0;34m\u001b[0m\u001b[0m\n\u001b[0m\u001b[1;32m     71\u001b[0m \u001b[0;34m\u001b[0m\u001b[0m\n\u001b[1;32m     72\u001b[0m         \u001b[0;32mif\u001b[0m \u001b[0mlog\u001b[0m\u001b[0;34m:\u001b[0m\u001b[0;34m\u001b[0m\u001b[0m\n",
      "\u001b[0;32m/usr/local/lib/python2.7/dist-packages/explauto/environment/dynamic_environment.pyc\u001b[0m in \u001b[0;36mcompute_sensori_effect\u001b[0;34m(self, m_traj)\u001b[0m\n\u001b[1;32m    109\u001b[0m \u001b[0;34m\u001b[0m\u001b[0m\n\u001b[1;32m    110\u001b[0m     \u001b[0;32mdef\u001b[0m \u001b[0mcompute_sensori_effect\u001b[0m\u001b[0;34m(\u001b[0m\u001b[0mself\u001b[0m\u001b[0;34m,\u001b[0m \u001b[0mm_traj\u001b[0m\u001b[0;34m)\u001b[0m\u001b[0;34m:\u001b[0m\u001b[0;34m\u001b[0m\u001b[0m\n\u001b[0;32m--> 111\u001b[0;31m         \u001b[0ms\u001b[0m \u001b[0;34m=\u001b[0m \u001b[0mself\u001b[0m\u001b[0;34m.\u001b[0m\u001b[0menv\u001b[0m\u001b[0;34m.\u001b[0m\u001b[0mupdate\u001b[0m\u001b[0;34m(\u001b[0m\u001b[0mm_traj\u001b[0m\u001b[0;34m,\u001b[0m \u001b[0mreset\u001b[0m\u001b[0;34m=\u001b[0m\u001b[0mFalse\u001b[0m\u001b[0;34m,\u001b[0m \u001b[0mlog\u001b[0m\u001b[0;34m=\u001b[0m\u001b[0mFalse\u001b[0m\u001b[0;34m)\u001b[0m\u001b[0;34m\u001b[0m\u001b[0m\n\u001b[0m\u001b[1;32m    112\u001b[0m         \u001b[0mself\u001b[0m\u001b[0;34m.\u001b[0m\u001b[0ms_traj\u001b[0m \u001b[0;34m=\u001b[0m \u001b[0ms\u001b[0m\u001b[0;34m\u001b[0m\u001b[0m\n\u001b[1;32m    113\u001b[0m         \u001b[0my\u001b[0m \u001b[0;34m=\u001b[0m \u001b[0mnp\u001b[0m\u001b[0;34m.\u001b[0m\u001b[0marray\u001b[0m\u001b[0;34m(\u001b[0m\u001b[0ms\u001b[0m\u001b[0;34m[\u001b[0m\u001b[0;34m:\u001b[0m\u001b[0mself\u001b[0m\u001b[0;34m.\u001b[0m\u001b[0mmove_steps\u001b[0m\u001b[0;34m]\u001b[0m\u001b[0;34m)\u001b[0m\u001b[0;34m\u001b[0m\u001b[0m\n",
      "\u001b[0;32m/usr/local/lib/python2.7/dist-packages/explauto/environment/environment.pyc\u001b[0m in \u001b[0;36mupdate\u001b[0;34m(self, m_ag, reset, log)\u001b[0m\n\u001b[1;32m     95\u001b[0m             \u001b[0ms\u001b[0m \u001b[0;34m=\u001b[0m \u001b[0;34m[\u001b[0m\u001b[0;34m]\u001b[0m\u001b[0;34m\u001b[0m\u001b[0m\n\u001b[1;32m     96\u001b[0m             \u001b[0;32mfor\u001b[0m \u001b[0mm\u001b[0m \u001b[0;32min\u001b[0m \u001b[0mm_ag\u001b[0m\u001b[0;34m:\u001b[0m\u001b[0;34m\u001b[0m\u001b[0m\n\u001b[0;32m---> 97\u001b[0;31m                 \u001b[0ms\u001b[0m\u001b[0;34m.\u001b[0m\u001b[0mappend\u001b[0m\u001b[0;34m(\u001b[0m\u001b[0mself\u001b[0m\u001b[0;34m.\u001b[0m\u001b[0mone_update\u001b[0m\u001b[0;34m(\u001b[0m\u001b[0mm\u001b[0m\u001b[0;34m,\u001b[0m \u001b[0mlog\u001b[0m\u001b[0;34m)\u001b[0m\u001b[0;34m)\u001b[0m\u001b[0;34m\u001b[0m\u001b[0m\n\u001b[0m\u001b[1;32m     98\u001b[0m             \u001b[0ms\u001b[0m \u001b[0;34m=\u001b[0m \u001b[0marray\u001b[0m\u001b[0;34m(\u001b[0m\u001b[0ms\u001b[0m\u001b[0;34m)\u001b[0m\u001b[0;34m\u001b[0m\u001b[0m\n\u001b[1;32m     99\u001b[0m         \u001b[0;32mreturn\u001b[0m \u001b[0ms\u001b[0m\u001b[0;34m\u001b[0m\u001b[0m\n",
      "\u001b[0;32m/usr/local/lib/python2.7/dist-packages/explauto/environment/environment.pyc\u001b[0m in \u001b[0;36mone_update\u001b[0;34m(self, m_ag, log)\u001b[0m\n\u001b[1;32m     68\u001b[0m     \u001b[0;32mdef\u001b[0m \u001b[0mone_update\u001b[0m\u001b[0;34m(\u001b[0m\u001b[0mself\u001b[0m\u001b[0;34m,\u001b[0m \u001b[0mm_ag\u001b[0m\u001b[0;34m,\u001b[0m \u001b[0mlog\u001b[0m\u001b[0;34m=\u001b[0m\u001b[0mTrue\u001b[0m\u001b[0;34m)\u001b[0m\u001b[0;34m:\u001b[0m\u001b[0;34m\u001b[0m\u001b[0m\n\u001b[1;32m     69\u001b[0m         \u001b[0mm_env\u001b[0m \u001b[0;34m=\u001b[0m \u001b[0mself\u001b[0m\u001b[0;34m.\u001b[0m\u001b[0mcompute_motor_command\u001b[0m\u001b[0;34m(\u001b[0m\u001b[0mm_ag\u001b[0m\u001b[0;34m)\u001b[0m\u001b[0;34m\u001b[0m\u001b[0m\n\u001b[0;32m---> 70\u001b[0;31m         \u001b[0ms\u001b[0m \u001b[0;34m=\u001b[0m \u001b[0mself\u001b[0m\u001b[0;34m.\u001b[0m\u001b[0mcompute_sensori_effect\u001b[0m\u001b[0;34m(\u001b[0m\u001b[0mm_env\u001b[0m\u001b[0;34m)\u001b[0m\u001b[0;34m\u001b[0m\u001b[0m\n\u001b[0m\u001b[1;32m     71\u001b[0m \u001b[0;34m\u001b[0m\u001b[0m\n\u001b[1;32m     72\u001b[0m         \u001b[0;32mif\u001b[0m \u001b[0mlog\u001b[0m\u001b[0;34m:\u001b[0m\u001b[0;34m\u001b[0m\u001b[0m\n",
      "\u001b[0;32m/notebooks/INRIA-Internship/src/environments.py\u001b[0m in \u001b[0;36mcompute_sensori_effect\u001b[0;34m(self, m)\u001b[0m\n\u001b[1;32m    230\u001b[0m         \u001b[0;31m# We move the arrow\u001b[0m\u001b[0;34m\u001b[0m\u001b[0;34m\u001b[0m\u001b[0m\n\u001b[1;32m    231\u001b[0m         \u001b[0mcond_grip\u001b[0m \u001b[0;34m=\u001b[0m  \u001b[0;34m(\u001b[0m\u001b[0;34m(\u001b[0m\u001b[0mhand_pos\u001b[0m\u001b[0;34m[\u001b[0m\u001b[0;36m0\u001b[0m\u001b[0;34m]\u001b[0m \u001b[0;34m-\u001b[0m \u001b[0mself\u001b[0m\u001b[0;34m.\u001b[0m\u001b[0marrow_pos\u001b[0m\u001b[0;34m[\u001b[0m\u001b[0;36m0\u001b[0m\u001b[0;34m]\u001b[0m\u001b[0;34m)\u001b[0m \u001b[0;34m**\u001b[0m \u001b[0;36m2\u001b[0m \u001b[0;34m+\u001b[0m \u001b[0;34m(\u001b[0m\u001b[0mhand_pos\u001b[0m\u001b[0;34m[\u001b[0m\u001b[0;36m1\u001b[0m\u001b[0;34m]\u001b[0m \u001b[0;34m-\u001b[0m \u001b[0mself\u001b[0m\u001b[0;34m.\u001b[0m\u001b[0marrow_pos\u001b[0m\u001b[0;34m[\u001b[0m\u001b[0;36m1\u001b[0m\u001b[0;34m]\u001b[0m\u001b[0;34m)\u001b[0m \u001b[0;34m**\u001b[0m \u001b[0;36m2\u001b[0m \u001b[0;34m<\u001b[0m \u001b[0mself\u001b[0m\u001b[0;34m.\u001b[0m\u001b[0msize_sq\u001b[0m\u001b[0;34m)\u001b[0m\u001b[0;34m\u001b[0m\u001b[0m\n\u001b[0;32m--> 232\u001b[0;31m         \u001b[0;32mif\u001b[0m \u001b[0mself\u001b[0m\u001b[0;34m.\u001b[0m\u001b[0marrow_move\u001b[0m \u001b[0;32mor\u001b[0m \u001b[0mcond_grip\u001b[0m\u001b[0;34m:\u001b[0m\u001b[0;34m\u001b[0m\u001b[0m\n\u001b[0m\u001b[1;32m    233\u001b[0m             \u001b[0mself\u001b[0m\u001b[0;34m.\u001b[0m\u001b[0marrow_pos\u001b[0m \u001b[0;34m=\u001b[0m \u001b[0mnp\u001b[0m\u001b[0;34m.\u001b[0m\u001b[0mconcatenate\u001b[0m\u001b[0;34m(\u001b[0m\u001b[0;34m[\u001b[0m\u001b[0mhand_pos\u001b[0m\u001b[0;34m,\u001b[0m\u001b[0;34m[\u001b[0m\u001b[0mangle\u001b[0m\u001b[0;34m]\u001b[0m\u001b[0;34m]\u001b[0m\u001b[0;34m)\u001b[0m\u001b[0;34m\u001b[0m\u001b[0m\n\u001b[1;32m    234\u001b[0m             \u001b[0mself\u001b[0m\u001b[0;34m.\u001b[0m\u001b[0marrow_move\u001b[0m \u001b[0;34m=\u001b[0m \u001b[0mTrue\u001b[0m\u001b[0;34m\u001b[0m\u001b[0m\n",
      "\u001b[0;31mValueError\u001b[0m: all the input arrays must have same number of dimensions"
     ]
    }
   ],
   "source": [
    "while dynamic_env.update(np.random.uniform(-1,1,9)).tolist() == [ 0.6,  0.6, 0.]:\n",
    "    dynamic_env.reset()"
   ]
  },
  {
   "cell_type": "code",
   "execution_count": 24,
   "metadata": {
    "collapsed": true
   },
   "outputs": [],
   "source": [
    "image_list = list()\n",
    "\n",
    "for coord in dynamic_env.get_last_traj():\n",
    "    coord = (coord+1)/2\n",
    "    arr = rend.draw(coord.tolist()) * 255\n",
    "    arr = arr.reshape([70,70,1])\n",
    "    arr = np.repeat(arr,3,axis=-1)\n",
    "    image_list.append(arr.astype(np.int8))"
   ]
  },
  {
   "cell_type": "code",
   "execution_count": 25,
   "metadata": {},
   "outputs": [
    {
     "name": "stderr",
     "output_type": "stream",
     "text": [
      "100%|██████████| 51/51 [00:00<00:00, 956.61it/s]\n"
     ]
    },
    {
     "data": {
      "text/html": [
       "<div align=middle><video width='512' loop='1' autoplay='1'src='data:video/mp4;base64,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' controls>Sorry, seems like your browser doesn't support HTML5 audio/video</video></div>"
      ],
      "text/plain": [
       "<moviepy.video.io.html_tools.HTML2 object>"
      ]
     },
     "execution_count": 25,
     "metadata": {},
     "output_type": "execute_result"
    }
   ],
   "source": [
    "import moviepy.editor\n",
    "clip = moviepy.editor.ImageSequenceClip(image_list, fps=25)\n",
    "clip.ipython_display(width=512, autoplay=1, loop=1)"
   ]
  },
  {
   "cell_type": "code",
   "execution_count": null,
   "metadata": {
    "collapsed": true
   },
   "outputs": [],
   "source": []
  }
 ],
 "metadata": {
  "kernelspec": {
   "display_name": "Python 2",
   "language": "python",
   "name": "python2"
  },
  "language_info": {
   "codemirror_mode": {
    "name": "ipython",
    "version": 2
   },
   "file_extension": ".py",
   "mimetype": "text/x-python",
   "name": "python",
   "nbconvert_exporter": "python",
   "pygments_lexer": "ipython2",
   "version": "2.7.12"
  }
 },
 "nbformat": 4,
 "nbformat_minor": 2
}
